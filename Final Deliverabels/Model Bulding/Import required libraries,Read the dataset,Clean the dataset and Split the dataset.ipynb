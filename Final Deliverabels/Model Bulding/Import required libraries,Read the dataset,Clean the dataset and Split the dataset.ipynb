{
  "nbformat": 4,
  "nbformat_minor": 0,
  "metadata": {
    "colab": {
      "provenance": []
    },
    "kernelspec": {
      "name": "python3",
      "display_name": "Python 3"
    },
    "language_info": {
      "name": "python"
    }
  },
  "cells": [
    {
      "cell_type": "markdown",
      "source": [
        "# **Importing Required Libraries**"
      ],
      "metadata": {
        "id": "x877fFHUGu7l"
      }
    },
    {
      "cell_type": "code",
      "execution_count": null,
      "metadata": {
        "id": "44QJG9jSFhjM"
      },
      "outputs": [],
      "source": [
        "import pandas as pd\n",
        "import numpy as np\n",
        "import matplotlib.pyplot as plt\n",
        "import seaborn as sns\n",
        "import warnings\n",
        "warnings.filterwarnings('ignore')"
      ]
    },
    {
      "cell_type": "markdown",
      "source": [
        "# **Reading the Dataset**"
      ],
      "metadata": {
        "id": "C-QXgp7sHBW2"
      }
    },
    {
      "cell_type": "code",
      "source": [
        "df = pd.read_csv('/autos.csv', parse_dates=['dateCrawled', 'dateCreated', 'lastSeen'], encoding = 'latin1')"
      ],
      "metadata": {
        "id": "40U6rWqfHLwR"
      },
      "execution_count": null,
      "outputs": []
    },
    {
      "cell_type": "markdown",
      "source": [
        "# **Cleaning the Dataset**"
      ],
      "metadata": {
        "id": "-7vVHfDIHZMp"
      }
    },
    {
      "cell_type": "code",
      "source": [
        "df.columns"
      ],
      "metadata": {
        "colab": {
          "base_uri": "https://localhost:8080/"
        },
        "id": "N6svVt5sHjOd",
        "outputId": "98c68ff5-efd1-498a-9ec7-6b4d196db0ad"
      },
      "execution_count": null,
      "outputs": [
        {
          "output_type": "execute_result",
          "data": {
            "text/plain": [
              "Index(['dateCrawled', 'name', 'seller', 'offerType', 'price', 'abtest',\n",
              "       'vehicleType', 'yearOfRegistration', 'gearbox', 'powerPS', 'model',\n",
              "       'kilometer', 'monthOfRegistration', 'fuelType', 'brand',\n",
              "       'notRepairedDamage', 'dateCreated', 'nrOfPictures', 'postalCode',\n",
              "       'lastSeen'],\n",
              "      dtype='object')"
            ]
          },
          "metadata": {},
          "execution_count": 3
        }
      ]
    },
    {
      "cell_type": "code",
      "source": [
        "df = df[['dateCrawled', 'name', 'seller', 'offerType', 'abtest',\n",
        "       'vehicleType', 'yearOfRegistration', 'gearbox', 'powerPS', 'model',\n",
        "       'kilometer', 'monthOfRegistration', 'fuelType', 'brand',\n",
        "       'notRepairedDamage', 'dateCreated', 'nrOfPictures', 'postalCode',\n",
        "       'lastSeen', 'price']]"
      ],
      "metadata": {
        "id": "2UoPTA2NHr7R"
      },
      "execution_count": null,
      "outputs": []
    },
    {
      "cell_type": "code",
      "source": [
        "df.drop(columns= ['seller', 'offerType', 'nrOfPictures'], inplace = True)\n",
        "df.drop(columns= ['dateCrawled', 'dateCreated', 'lastSeen'], inplace = True)"
      ],
      "metadata": {
        "id": "A2Td4VYVIlWR"
      },
      "execution_count": null,
      "outputs": []
    },
    {
      "cell_type": "markdown",
      "source": [
        "**Missing Values**"
      ],
      "metadata": {
        "id": "AmJGADOIIzzO"
      }
    },
    {
      "cell_type": "code",
      "source": [
        "# Checking for Missing Values\n",
        "df.isna().sum()\n"
      ],
      "metadata": {
        "colab": {
          "base_uri": "https://localhost:8080/"
        },
        "id": "6TgXKqFLJBZ1",
        "outputId": "cfbcb288-190f-4b0c-d9c4-d136b1dc5c50"
      },
      "execution_count": null,
      "outputs": [
        {
          "output_type": "execute_result",
          "data": {
            "text/plain": [
              "name                       0\n",
              "abtest                     0\n",
              "vehicleType            37869\n",
              "yearOfRegistration         0\n",
              "gearbox                20209\n",
              "powerPS                    0\n",
              "model                  20484\n",
              "kilometer                  0\n",
              "monthOfRegistration        0\n",
              "fuelType               33386\n",
              "brand                      0\n",
              "notRepairedDamage      72060\n",
              "postalCode                 0\n",
              "price                      0\n",
              "dtype: int64"
            ]
          },
          "metadata": {},
          "execution_count": 6
        }
      ]
    },
    {
      "cell_type": "code",
      "source": [
        "df['vehicleType'].fillna(df['vehicleType'].mode()[0], inplace = True)\n",
        "df['gearbox'].fillna(df['gearbox'].mode()[0], inplace = True)\n",
        "df['model'].fillna(df['model'].mode()[0], inplace = True)\n",
        "df['fuelType'].fillna(df['fuelType'].mode()[0], inplace = True)\n",
        "df['notRepairedDamage'].fillna(df['notRepairedDamage'].mode()[0], inplace = True)"
      ],
      "metadata": {
        "id": "3Hspa7AgJHqh"
      },
      "execution_count": null,
      "outputs": []
    },
    {
      "cell_type": "code",
      "source": [
        "df.isna().sum()"
      ],
      "metadata": {
        "colab": {
          "base_uri": "https://localhost:8080/"
        },
        "id": "FwB0IJveJOBM",
        "outputId": "091cc305-66e6-47a8-a678-b7915b1188a4"
      },
      "execution_count": null,
      "outputs": [
        {
          "output_type": "execute_result",
          "data": {
            "text/plain": [
              "name                   0\n",
              "abtest                 0\n",
              "vehicleType            0\n",
              "yearOfRegistration     0\n",
              "gearbox                0\n",
              "powerPS                0\n",
              "model                  0\n",
              "kilometer              0\n",
              "monthOfRegistration    0\n",
              "fuelType               0\n",
              "brand                  0\n",
              "notRepairedDamage      0\n",
              "postalCode             0\n",
              "price                  0\n",
              "dtype: int64"
            ]
          },
          "metadata": {},
          "execution_count": 8
        }
      ]
    },
    {
      "cell_type": "markdown",
      "source": [
        "**Duplicate Values**"
      ],
      "metadata": {
        "id": "w_NIbB6uJXKR"
      }
    },
    {
      "cell_type": "code",
      "source": [
        "# Checking for Duplicates\n",
        "df.duplicated().sum()"
      ],
      "metadata": {
        "colab": {
          "base_uri": "https://localhost:8080/"
        },
        "id": "q2ooVfirJaue",
        "outputId": "f5af0a4a-d2ca-46dc-de78-8f151031c4f0"
      },
      "execution_count": null,
      "outputs": [
        {
          "output_type": "execute_result",
          "data": {
            "text/plain": [
              "4703"
            ]
          },
          "metadata": {},
          "execution_count": 9
        }
      ]
    },
    {
      "cell_type": "code",
      "source": [
        "# Removing Duplicates\n",
        "df = df.drop_duplicates()"
      ],
      "metadata": {
        "id": "0vRDiJNBKV0B"
      },
      "execution_count": null,
      "outputs": []
    },
    {
      "cell_type": "code",
      "source": [
        "df.duplicated().sum()"
      ],
      "metadata": {
        "colab": {
          "base_uri": "https://localhost:8080/"
        },
        "id": "cr7uKNXlKbPp",
        "outputId": "143dd0db-d520-4e2b-eb19-427bce8d4ce1"
      },
      "execution_count": null,
      "outputs": [
        {
          "output_type": "execute_result",
          "data": {
            "text/plain": [
              "0"
            ]
          },
          "metadata": {},
          "execution_count": 11
        }
      ]
    },
    {
      "cell_type": "markdown",
      "source": [
        "**Label Encoding**"
      ],
      "metadata": {
        "id": "yEPG3hm_Khko"
      }
    },
    {
      "cell_type": "code",
      "source": [
        "df.info()"
      ],
      "metadata": {
        "colab": {
          "base_uri": "https://localhost:8080/"
        },
        "id": "tNDFml-VKlVe",
        "outputId": "1c80eb5a-a500-406a-bb51-508798b26d68"
      },
      "execution_count": null,
      "outputs": [
        {
          "output_type": "stream",
          "name": "stdout",
          "text": [
            "<class 'pandas.core.frame.DataFrame'>\n",
            "Int64Index: 366825 entries, 0 to 371527\n",
            "Data columns (total 14 columns):\n",
            " #   Column               Non-Null Count   Dtype \n",
            "---  ------               --------------   ----- \n",
            " 0   name                 366825 non-null  object\n",
            " 1   abtest               366825 non-null  object\n",
            " 2   vehicleType          366825 non-null  object\n",
            " 3   yearOfRegistration   366825 non-null  int64 \n",
            " 4   gearbox              366825 non-null  object\n",
            " 5   powerPS              366825 non-null  int64 \n",
            " 6   model                366825 non-null  object\n",
            " 7   kilometer            366825 non-null  int64 \n",
            " 8   monthOfRegistration  366825 non-null  int64 \n",
            " 9   fuelType             366825 non-null  object\n",
            " 10  brand                366825 non-null  object\n",
            " 11  notRepairedDamage    366825 non-null  object\n",
            " 12  postalCode           366825 non-null  int64 \n",
            " 13  price                366825 non-null  int64 \n",
            "dtypes: int64(6), object(8)\n",
            "memory usage: 42.0+ MB\n"
          ]
        }
      ]
    },
    {
      "cell_type": "code",
      "source": [
        "from sklearn.preprocessing import LabelEncoder\n",
        "le = LabelEncoder()\n",
        "df['name'] = le.fit_transform(df['name'])\n",
        "df['abtest'] = le.fit_transform(df['abtest'])\n",
        "df['vehicleType'] = le.fit_transform(df['vehicleType'])\n",
        "df['gearbox'] = le.fit_transform(df['gearbox'])\n",
        "df['model'] = le.fit_transform(df['model'])\n",
        "df['fuelType'] = le.fit_transform(df['fuelType'])\n",
        "df['brand'] = le.fit_transform(df['brand'])\n",
        "df['notRepairedDamage'] = df['notRepairedDamage'].replace({'nein' : 0, 'ja' : 1})"
      ],
      "metadata": {
        "id": "Qf47ly0pKudz"
      },
      "execution_count": null,
      "outputs": []
    },
    {
      "cell_type": "code",
      "source": [
        "df.info()"
      ],
      "metadata": {
        "colab": {
          "base_uri": "https://localhost:8080/"
        },
        "id": "4Af7xb9PLf_U",
        "outputId": "6a691b22-c142-42d4-e7ac-9d4d597e98eb"
      },
      "execution_count": null,
      "outputs": [
        {
          "output_type": "stream",
          "name": "stdout",
          "text": [
            "<class 'pandas.core.frame.DataFrame'>\n",
            "Int64Index: 366825 entries, 0 to 371527\n",
            "Data columns (total 14 columns):\n",
            " #   Column               Non-Null Count   Dtype\n",
            "---  ------               --------------   -----\n",
            " 0   name                 366825 non-null  int64\n",
            " 1   abtest               366825 non-null  int64\n",
            " 2   vehicleType          366825 non-null  int64\n",
            " 3   yearOfRegistration   366825 non-null  int64\n",
            " 4   gearbox              366825 non-null  int64\n",
            " 5   powerPS              366825 non-null  int64\n",
            " 6   model                366825 non-null  int64\n",
            " 7   kilometer            366825 non-null  int64\n",
            " 8   monthOfRegistration  366825 non-null  int64\n",
            " 9   fuelType             366825 non-null  int64\n",
            " 10  brand                366825 non-null  int64\n",
            " 11  notRepairedDamage    366825 non-null  int64\n",
            " 12  postalCode           366825 non-null  int64\n",
            " 13  price                366825 non-null  int64\n",
            "dtypes: int64(14)\n",
            "memory usage: 42.0 MB\n"
          ]
        }
      ]
    },
    {
      "cell_type": "markdown",
      "source": [
        "**Identifying and Handling Outliers**"
      ],
      "metadata": {
        "id": "wU8ClAfpLvjz"
      }
    },
    {
      "cell_type": "code",
      "source": [
        "# Checking for outliers in 'price' column\n",
        "sns.boxplot(x = df['price'])"
      ],
      "metadata": {
        "colab": {
          "base_uri": "https://localhost:8080/",
          "height": 296
        },
        "id": "rDTDLC3OL6HH",
        "outputId": "358f1abb-5067-4a39-bf60-5f10d4cd2711"
      },
      "execution_count": null,
      "outputs": [
        {
          "output_type": "execute_result",
          "data": {
            "text/plain": [
              "<matplotlib.axes._subplots.AxesSubplot at 0x7f448a13c610>"
            ]
          },
          "metadata": {},
          "execution_count": 15
        },
        {
          "output_type": "display_data",
          "data": {
            "text/plain": [
              "<Figure size 432x288 with 1 Axes>"
            ],
            "image/png": "[encoded data removed]"
          },
          "metadata": {
            "needs_background": "light"
          }
        }
      ]
    },
    {
      "cell_type": "code",
      "source": [
        "a = df['price'].quantile(q=[0.75,0.25])\n",
        "a"
      ],
      "metadata": {
        "colab": {
          "base_uri": "https://localhost:8080/"
        },
        "id": "LC5Z4BYSMEqf",
        "outputId": "166e5ede-c309-4096-a5eb-14a39750cde4"
      },
      "execution_count": null,
      "outputs": [
        {
          "output_type": "execute_result",
          "data": {
            "text/plain": [
              "0.75    7150.0\n",
              "0.25    1150.0\n",
              "Name: price, dtype: float64"
            ]
          },
          "metadata": {},
          "execution_count": 16
        }
      ]
    },
    {
      "cell_type": "code",
      "source": [
        "IQR = a.iloc[0] - a.iloc[1]\n",
        "IQR"
      ],
      "metadata": {
        "colab": {
          "base_uri": "https://localhost:8080/"
        },
        "id": "G4lAJwtFMNCb",
        "outputId": "6d176b4a-2dbe-466c-ffb1-43dfca530a8d"
      },
      "execution_count": null,
      "outputs": [
        {
          "output_type": "execute_result",
          "data": {
            "text/plain": [
              "6000.0"
            ]
          },
          "metadata": {},
          "execution_count": 17
        }
      ]
    },
    {
      "cell_type": "code",
      "source": [
        "upper = a.iloc[0]+(1.5*IQR)\n",
        "lower = a.iloc[0]-(1.5*IQR)"
      ],
      "metadata": {
        "id": "n8aQnDY2MhUJ"
      },
      "execution_count": null,
      "outputs": []
    },
    {
      "cell_type": "code",
      "source": [
        "upper"
      ],
      "metadata": {
        "colab": {
          "base_uri": "https://localhost:8080/"
        },
        "id": "1BiSBYCNMuKs",
        "outputId": "de26642f-771d-416f-a766-fd6158e71646"
      },
      "execution_count": null,
      "outputs": [
        {
          "output_type": "execute_result",
          "data": {
            "text/plain": [
              "16150.0"
            ]
          },
          "metadata": {},
          "execution_count": 19
        }
      ]
    },
    {
      "cell_type": "code",
      "source": [
        "lower"
      ],
      "metadata": {
        "colab": {
          "base_uri": "https://localhost:8080/"
        },
        "id": "7qFUGbFKMzUK",
        "outputId": "1c9dab1a-0adf-4e78-bd5c-00998e0a05fa"
      },
      "execution_count": null,
      "outputs": [
        {
          "output_type": "execute_result",
          "data": {
            "text/plain": [
              "-1850.0"
            ]
          },
          "metadata": {},
          "execution_count": 20
        }
      ]
    },
    {
      "cell_type": "code",
      "source": [
        "# Dropping outliers in price\n",
        "a = df[df['price'] > 20000].index\n",
        "df.drop(a, inplace = True)"
      ],
      "metadata": {
        "id": "Jcpuvz0aM-gr"
      },
      "execution_count": null,
      "outputs": []
    },
    {
      "cell_type": "code",
      "source": [
        "sns.boxplot(x = df['price'])"
      ],
      "metadata": {
        "id": "3tDwSj5ZNiLC",
        "outputId": "056b7c29-3800-40f6-b3d6-6019e496e1d7",
        "colab": {
          "base_uri": "https://localhost:8080/",
          "height": 296
        }
      },
      "execution_count": null,
      "outputs": [
        {
          "output_type": "execute_result",
          "data": {
            "text/plain": [
              "<matplotlib.axes._subplots.AxesSubplot at 0x7f448e854f50>"
            ]
          },
          "metadata": {},
          "execution_count": 22
        },
        {
          "output_type": "display_data",
          "data": {
            "text/plain": [
              "<Figure size 432x288 with 1 Axes>"
            ],
            "image/png": "[encoded data removed]"
          },
          "metadata": {
            "needs_background": "light"
          }
        }
      ]
    },
    {
      "cell_type": "code",
      "source": [
        "# Checking for outliers in 'yearOfRegistration' column\n",
        "sns.boxplot(x = df['yearOfRegistration'])"
      ],
      "metadata": {
        "colab": {
          "base_uri": "https://localhost:8080/",
          "height": 296
        },
        "id": "j4bJkN6bOE3w",
        "outputId": "fd76e6de-b199-491b-e65e-a4ff61df3a1d"
      },
      "execution_count": null,
      "outputs": [
        {
          "output_type": "execute_result",
          "data": {
            "text/plain": [
              "<matplotlib.axes._subplots.AxesSubplot at 0x7f448a8ccfd0>"
            ]
          },
          "metadata": {},
          "execution_count": 23
        },
        {
          "output_type": "display_data",
          "data": {
            "text/plain": [
              "<Figure size 432x288 with 1 Axes>"
            ],
            "image/png": "[encoded data removed]"
          },
          "metadata": {
            "needs_background": "light"
          }
        }
      ]
    },
    {
      "cell_type": "code",
      "source": [
        "a = df['yearOfRegistration'].quantile(q=[0.75,0.25])\n",
        "a"
      ],
      "metadata": {
        "colab": {
          "base_uri": "https://localhost:8080/"
        },
        "id": "6k3dBSVEOJv3",
        "outputId": "6296e39f-15b7-4aae-d393-40b1d967e8e1"
      },
      "execution_count": null,
      "outputs": [
        {
          "output_type": "execute_result",
          "data": {
            "text/plain": [
              "0.75    2008.0\n",
              "0.25    1999.0\n",
              "Name: yearOfRegistration, dtype: float64"
            ]
          },
          "metadata": {},
          "execution_count": 24
        }
      ]
    },
    {
      "cell_type": "code",
      "source": [
        "IQR = a.iloc[0] - a.iloc[1]\n",
        "IQR"
      ],
      "metadata": {
        "colab": {
          "base_uri": "https://localhost:8080/"
        },
        "id": "yPPzqDQOOPb9",
        "outputId": "08492bbc-1e66-4585-aadf-f4e2308e21b5"
      },
      "execution_count": null,
      "outputs": [
        {
          "output_type": "execute_result",
          "data": {
            "text/plain": [
              "9.0"
            ]
          },
          "metadata": {},
          "execution_count": 25
        }
      ]
    },
    {
      "cell_type": "code",
      "source": [
        "upper = a.iloc[0]+(1.5*IQR)\n",
        "lower = a.iloc[0]-(1.5*IQR)"
      ],
      "metadata": {
        "id": "EwR7oSfoOVRk"
      },
      "execution_count": null,
      "outputs": []
    },
    {
      "cell_type": "code",
      "source": [
        "upper"
      ],
      "metadata": {
        "colab": {
          "base_uri": "https://localhost:8080/"
        },
        "id": "aEyzZXqkOZ2m",
        "outputId": "8156a0e6-5f4c-4d76-e112-17aee82c2649"
      },
      "execution_count": null,
      "outputs": [
        {
          "output_type": "execute_result",
          "data": {
            "text/plain": [
              "2021.5"
            ]
          },
          "metadata": {},
          "execution_count": 27
        }
      ]
    },
    {
      "cell_type": "code",
      "source": [
        "lower"
      ],
      "metadata": {
        "colab": {
          "base_uri": "https://localhost:8080/"
        },
        "id": "NMzmmPJpOd7Q",
        "outputId": "93a4503b-19ee-4b38-f3b6-6a2095c0fa0e"
      },
      "execution_count": null,
      "outputs": [
        {
          "output_type": "execute_result",
          "data": {
            "text/plain": [
              "1994.5"
            ]
          },
          "metadata": {},
          "execution_count": 28
        }
      ]
    },
    {
      "cell_type": "code",
      "source": [
        "# Dropping outliers in yearOfRegistration\n",
        "a = df[df['yearOfRegistration'] > 2019].index\n",
        "df.drop(a, inplace = True)\n",
        "a = df[df['yearOfRegistration'] < 1970].index\n",
        "df.drop(a, inplace = True)"
      ],
      "metadata": {
        "id": "0w6bZv6hOjhg"
      },
      "execution_count": null,
      "outputs": []
    },
    {
      "cell_type": "code",
      "source": [
        "sns.boxplot(x = df['yearOfRegistration'])"
      ],
      "metadata": {
        "colab": {
          "base_uri": "https://localhost:8080/",
          "height": 296
        },
        "id": "FFwp8VqfOo1p",
        "outputId": "0a547709-5c53-4f84-fa6d-d7b0dd906540"
      },
      "execution_count": null,
      "outputs": [
        {
          "output_type": "execute_result",
          "data": {
            "text/plain": [
              "<matplotlib.axes._subplots.AxesSubplot at 0x7f448b79a6d0>"
            ]
          },
          "metadata": {},
          "execution_count": 30
        },
        {
          "output_type": "display_data",
          "data": {
            "text/plain": [
              "<Figure size 432x288 with 1 Axes>"
            ],
            "image/png": "[encoded data removed]"
          },
          "metadata": {
            "needs_background": "light"
          }
        }
      ]
    },
    {
      "cell_type": "code",
      "source": [
        "# Checking for outliers in 'powerPS' column \n",
        "sns.boxplot(x = df['powerPS'])"
      ],
      "metadata": {
        "colab": {
          "base_uri": "https://localhost:8080/",
          "height": 296
        },
        "id": "Q2bO4cZuOtce",
        "outputId": "d8a5f9c6-fe78-4f94-e1d1-ffa40ca61848"
      },
      "execution_count": null,
      "outputs": [
        {
          "output_type": "execute_result",
          "data": {
            "text/plain": [
              "<matplotlib.axes._subplots.AxesSubplot at 0x7f448bff30d0>"
            ]
          },
          "metadata": {},
          "execution_count": 31
        },
        {
          "output_type": "display_data",
          "data": {
            "text/plain": [
              "<Figure size 432x288 with 1 Axes>"
            ],
            "image/png": "[encoded data removed]"
          },
          "metadata": {
            "needs_background": "light"
          }
        }
      ]
    },
    {
      "cell_type": "code",
      "source": [
        "a = df['powerPS'].quantile(q=[0.75,0.25])\n",
        "a"
      ],
      "metadata": {
        "colab": {
          "base_uri": "https://localhost:8080/"
        },
        "id": "wtAqEYXFOyDv",
        "outputId": "c5a71211-e850-48e4-aa81-e425f7f03ac6"
      },
      "execution_count": null,
      "outputs": [
        {
          "output_type": "execute_result",
          "data": {
            "text/plain": [
              "0.75    141.0\n",
              "0.25     69.0\n",
              "Name: powerPS, dtype: float64"
            ]
          },
          "metadata": {},
          "execution_count": 32
        }
      ]
    },
    {
      "cell_type": "code",
      "source": [
        "IQR = a.iloc[0] - a.iloc[1]\n",
        "IQR"
      ],
      "metadata": {
        "colab": {
          "base_uri": "https://localhost:8080/"
        },
        "id": "876E3gAqO6iP",
        "outputId": "6e62c199-15c1-4a5f-b685-44be96a679d4"
      },
      "execution_count": null,
      "outputs": [
        {
          "output_type": "execute_result",
          "data": {
            "text/plain": [
              "72.0"
            ]
          },
          "metadata": {},
          "execution_count": 33
        }
      ]
    },
    {
      "cell_type": "code",
      "source": [
        "upper = a.iloc[0]+(1.5*IQR)\n",
        "lower = a.iloc[0]-(1.5*IQR)"
      ],
      "metadata": {
        "id": "dVPa3uuvO_Ly"
      },
      "execution_count": null,
      "outputs": []
    },
    {
      "cell_type": "code",
      "source": [
        "upper"
      ],
      "metadata": {
        "colab": {
          "base_uri": "https://localhost:8080/"
        },
        "id": "cUEs7nOgPDtA",
        "outputId": "285462a1-1f22-496c-c968-da94a4cb24a9"
      },
      "execution_count": null,
      "outputs": [
        {
          "output_type": "execute_result",
          "data": {
            "text/plain": [
              "249.0"
            ]
          },
          "metadata": {},
          "execution_count": 35
        }
      ]
    },
    {
      "cell_type": "code",
      "source": [
        "lower"
      ],
      "metadata": {
        "colab": {
          "base_uri": "https://localhost:8080/"
        },
        "id": "b8lsNkh5PPIU",
        "outputId": "27984c91-3081-452b-ad4d-5c0ae7fb2030"
      },
      "execution_count": null,
      "outputs": [
        {
          "output_type": "execute_result",
          "data": {
            "text/plain": [
              "33.0"
            ]
          },
          "metadata": {},
          "execution_count": 36
        }
      ]
    },
    {
      "cell_type": "code",
      "source": [
        "# Dropping outliers in powerPS\n",
        "a = df[df['powerPS'] > 300].index\n",
        "df.drop(a, inplace = True)"
      ],
      "metadata": {
        "id": "diXK21NVPTjc"
      },
      "execution_count": null,
      "outputs": []
    },
    {
      "cell_type": "code",
      "source": [
        "sns.boxplot(x = df['powerPS'])"
      ],
      "metadata": {
        "colab": {
          "base_uri": "https://localhost:8080/",
          "height": 296
        },
        "id": "ZGcGdec9PXeC",
        "outputId": "f1725732-4f9a-4acb-9849-8ff4af72a966"
      },
      "execution_count": null,
      "outputs": [
        {
          "output_type": "execute_result",
          "data": {
            "text/plain": [
              "<matplotlib.axes._subplots.AxesSubplot at 0x7f448b674a10>"
            ]
          },
          "metadata": {},
          "execution_count": 38
        },
        {
          "output_type": "display_data",
          "data": {
            "text/plain": [
              "<Figure size 432x288 with 1 Axes>"
            ],
            "image/png": "[encoded data removed]"
          },
          "metadata": {
            "needs_background": "light"
          }
        }
      ]
    },
    {
      "cell_type": "markdown",
      "source": [
        "# **Visualization**"
      ],
      "metadata": {
        "id": "qMVAUQvbPdHU"
      }
    },
    {
      "cell_type": "code",
      "source": [
        "plt.figure(figsize=(20,20))\n",
        "sns.heatmap(df.corr(), annot = True)\n",
        "plt.show()"
      ],
      "metadata": {
        "colab": {
          "base_uri": "https://localhost:8080/",
          "height": 1000
        },
        "id": "HzwS-ge0PgFx",
        "outputId": "50cc134d-5686-49a0-e77c-6e90636fbd0b"
      },
      "execution_count": null,
      "outputs": [
        {
          "output_type": "display_data",
          "data": {
            "text/plain": [
              "<Figure size 1440x1440 with 2 Axes>"
            ],
            "image/png": "[encoded data removed]"
          },
          "metadata": {
            "needs_background": "light"
          }
        }
      ]
    },
    {
      "cell_type": "code",
      "source": [
        "sns.pairplot(df)\n",
        "plt.show()"
      ],
      "metadata": {
        "id": "PRh-AKC3PpWH"
      },
      "execution_count": null,
      "outputs": []
    },
    {
      "cell_type": "markdown",
      "source": [],
      "metadata": {
        "id": "StrgQ9GkLvU9"
      }
    }
  ]
}